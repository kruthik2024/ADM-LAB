{
  "nbformat": 4,
  "nbformat_minor": 0,
  "metadata": {
    "colab": {
      "provenance": [],
      "authorship_tag": "ABX9TyPbeuHLiMQQ8DL6kHKkpncW",
      "include_colab_link": true
    },
    "kernelspec": {
      "name": "python3",
      "display_name": "Python 3"
    },
    "language_info": {
      "name": "python"
    }
  },
  "cells": [
    {
      "cell_type": "markdown",
      "metadata": {
        "id": "view-in-github",
        "colab_type": "text"
      },
      "source": [
        "<a href=\"https://colab.research.google.com/github/kruthik2024/ADM-LAB/blob/main/ADM_ASSIGNMENT_1.ipynb\" target=\"_parent\"><img src=\"https://colab.research.google.com/assets/colab-badge.svg\" alt=\"Open In Colab\"/></a>"
      ]
    },
    {
      "cell_type": "code",
      "execution_count": null,
      "metadata": {
        "colab": {
          "base_uri": "https://localhost:8080/"
        },
        "id": "6ftChB-JaxP4",
        "outputId": "62f7b6f6-a372-4f25-bb06-fee8b8518051"
      },
      "outputs": [
        {
          "output_type": "stream",
          "name": "stdout",
          "text": [
            "   Employee_ID   Age    Salary  Job_Satisfaction  Work_Hours_Per_Week\n",
            "0         1001  50.0  108953.0               9.0                   36\n",
            "1         1002  36.0   82995.0               8.0                   59\n",
            "2         1003  29.0   70757.0               2.0                   30\n",
            "3         1004  42.0   39692.0               1.0                   30\n",
            "4         1005  40.0   75758.0               7.0                   54\n",
            "Employee_ID            0\n",
            "Age                    0\n",
            "Salary                 0\n",
            "Job_Satisfaction       0\n",
            "Work_Hours_Per_Week    0\n",
            "dtype: int64\n",
            "        Age    Salary  Age_manual  Salary_manual\n",
            "0  0.750000  0.877708    0.750000       0.877708\n",
            "1  0.361111  0.585375    0.361111       0.585375\n",
            "2  0.166667  0.447554    0.166667       0.447554\n",
            "3  0.527778  0.097707    0.527778       0.097707\n",
            "4  0.472222  0.503874    0.472222       0.503874\n",
            "   Job_Satisfaction  Work_Hours_Per_Week\n",
            "0          1.391522            -0.905969\n",
            "1          0.977379             1.483629\n",
            "2         -1.507482            -1.529343\n",
            "3         -1.921626            -1.529343\n",
            "4          0.563235             0.964151\n"
          ]
        },
        {
          "output_type": "stream",
          "name": "stderr",
          "text": [
            "<ipython-input-1-d5c72b5dc127>:15: FutureWarning: A value is trying to be set on a copy of a DataFrame or Series through chained assignment using an inplace method.\n",
            "The behavior will change in pandas 3.0. This inplace method will never work because the intermediate object on which we are setting values always behaves as a copy.\n",
            "\n",
            "For example, when doing 'df[col].method(value, inplace=True)', try using 'df.method({col: value}, inplace=True)' or df[col] = df[col].method(value) instead, to perform the operation inplace on the original object.\n",
            "\n",
            "\n",
            "  df['Age'].fillna(df['Age'].mean(), inplace=True)\n",
            "<ipython-input-1-d5c72b5dc127>:16: FutureWarning: A value is trying to be set on a copy of a DataFrame or Series through chained assignment using an inplace method.\n",
            "The behavior will change in pandas 3.0. This inplace method will never work because the intermediate object on which we are setting values always behaves as a copy.\n",
            "\n",
            "For example, when doing 'df[col].method(value, inplace=True)', try using 'df.method({col: value}, inplace=True)' or df[col] = df[col].method(value) instead, to perform the operation inplace on the original object.\n",
            "\n",
            "\n",
            "  df['Salary'].fillna(df['Salary'].mean(), inplace=True)\n",
            "<ipython-input-1-d5c72b5dc127>:19: FutureWarning: A value is trying to be set on a copy of a DataFrame or Series through chained assignment using an inplace method.\n",
            "The behavior will change in pandas 3.0. This inplace method will never work because the intermediate object on which we are setting values always behaves as a copy.\n",
            "\n",
            "For example, when doing 'df[col].method(value, inplace=True)', try using 'df.method({col: value}, inplace=True)' or df[col] = df[col].method(value) instead, to perform the operation inplace on the original object.\n",
            "\n",
            "\n",
            "  df['Job_Satisfaction'].fillna(df['Job_Satisfaction'].median(), inplace=True)\n",
            "<ipython-input-1-d5c72b5dc127>:22: FutureWarning: A value is trying to be set on a copy of a DataFrame or Series through chained assignment using an inplace method.\n",
            "The behavior will change in pandas 3.0. This inplace method will never work because the intermediate object on which we are setting values always behaves as a copy.\n",
            "\n",
            "For example, when doing 'df[col].method(value, inplace=True)', try using 'df.method({col: value}, inplace=True)' or df[col] = df[col].method(value) instead, to perform the operation inplace on the original object.\n",
            "\n",
            "\n",
            "  df['Work_Hours_Per_Week'].fillna(df['Work_Hours_Per_Week'].mode()[0], inplace=True)\n"
          ]
        }
      ],
      "source": [
        "# Importing necessary libraries\n",
        "import pandas as pd\n",
        "from sklearn.preprocessing import MinMaxScaler\n",
        "from sklearn.preprocessing import StandardScaler\n",
        "\n",
        "# Step 1: Load the dataset using Pandas\n",
        "df = pd.read_csv('employee_data.csv')\n",
        "\n",
        "# Displaying the first few rows of the dataset\n",
        "print(df.head())\n",
        "\n",
        "# Step 2: Handle missing values (imputation)\n",
        "\n",
        "# For missing 'Age' and 'Salary', we use mean imputation\n",
        "df['Age'].fillna(df['Age'].mean(), inplace=True)\n",
        "df['Salary'].fillna(df['Salary'].mean(), inplace=True)\n",
        "\n",
        "# For missing 'Job_Satisfaction', we use median imputation\n",
        "df['Job_Satisfaction'].fillna(df['Job_Satisfaction'].median(), inplace=True)\n",
        "\n",
        "# For missing 'Work_Hours_Per_Week', we use mode imputation (mode is common)\n",
        "df['Work_Hours_Per_Week'].fillna(df['Work_Hours_Per_Week'].mode()[0], inplace=True)\n",
        "\n",
        "# Check for missing values after imputation\n",
        "print(df.isnull().sum())\n",
        "\n",
        "# Step 3: Apply Min-Max Scaling (for 'Age' and 'Salary')\n",
        "\n",
        "# Min-Max Scaling using Sklearn's MinMaxScaler\n",
        "scaler = MinMaxScaler()\n",
        "\n",
        "df[['Age', 'Salary']] = scaler.fit_transform(df[['Age', 'Salary']])\n",
        "\n",
        "# Min-Max Scaling manually using formula: (x - min) / (max - min)\n",
        "df['Age_manual'] = (df['Age'] - df['Age'].min()) / (df['Age'].max() - df['Age'].min())\n",
        "df['Salary_manual'] = (df['Salary'] - df['Salary'].min()) / (df['Salary'].max() - df['Salary'].min())\n",
        "\n",
        "# Displaying the first few rows after Min-Max Scaling\n",
        "print(df[['Age', 'Salary', 'Age_manual', 'Salary_manual']].head())\n",
        "\n",
        "# Step 4: Apply Standardization (Z-score normalization) for 'Job_Satisfaction' and 'Work_Hours_Per_Week'\n",
        "\n",
        "# Standardization using Sklearn's StandardScaler\n",
        "scaler_standard = StandardScaler()\n",
        "\n",
        "df[['Job_Satisfaction', 'Work_Hours_Per_Week']] = scaler_standard.fit_transform(df[['Job_Satisfaction', 'Work_Hours_Per_Week']])\n",
        "\n",
        "# Displaying the first few rows after Standardization\n",
        "print(df[['Job_Satisfaction', 'Work_Hours_Per_Week']].head())\n"
      ]
    }
  ]
}